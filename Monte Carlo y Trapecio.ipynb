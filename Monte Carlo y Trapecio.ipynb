{
 "cells": [
  {
   "cell_type": "markdown",
   "metadata": {},
   "source": [
    "Compara Simulacion de Monte Carlo y Metodo numerico del Trapecio"
   ]
  },
  {
   "cell_type": "markdown",
   "metadata": {
    "slideshow": {
     "slide_type": "-"
    }
   },
   "source": [
    "#1.Implementar la simulacion de Montecarlo"
   ]
  },
  {
   "cell_type": "code",
   "execution_count": 4,
   "metadata": {
    "collapsed": false
   },
   "outputs": [
    {
     "name": "stdout",
     "output_type": "stream",
     "text": [
      "0.881669426824\n"
     ]
    }
   ],
   "source": [
    "import random\n",
    "import math\n",
    "\n",
    "def Calcula_Integral(n=1000000):#n tomara el rango \n",
    "    suma = 0\n",
    "    #Iteramos en el rango n\n",
    "    for i in range(n):\n",
    "        #generamos los números aleatorios\n",
    "        x = 2*random.random()\n",
    "        y = 2* math.exp(-x *x)\n",
    "        suma = suma + y\n",
    "        i = i + 1\n",
    "    return (suma / i)\n",
    "\n",
    "#llamamos la función Calcula_Integral\n",
    "print (Calcula_Integral())"
   ]
  },
  {
   "cell_type": "markdown",
   "metadata": {
    "collapsed": true
   },
   "source": [
    "#2.Implementar el método numérico del trapecio para integración numérica, Para calcular y comparar el resultado de la integral\n"
   ]
  },
  {
   "cell_type": "code",
   "execution_count": 5,
   "metadata": {
    "collapsed": false
   },
   "outputs": [
    {
     "name": "stdout",
     "output_type": "stream",
     "text": [
      "0.879752066108\n"
     ]
    }
   ],
   "source": [
    "import random\n",
    "import math\n",
    "\n",
    "\n",
    "paso = 0.1#definomos los pasos\n",
    "def Calcula_Integral():\n",
    "    \n",
    "    x1 = 0.0\n",
    "    x2 = paso\n",
    "    suma = 0.0\n",
    "    while x2 <= 2.0:\n",
    "        fx2 = math.exp(-x2 * x2)\n",
    "        trial = (math.exp(-x1 * x1) - fx2)*paso/2\n",
    "        suma = suma + trial + fx2 * paso\n",
    "        x1 = x2\n",
    "        x2 = x2 + paso\n",
    "    return (suma )\n",
    "\n",
    "#llamamos la función Calcula_Integral\n",
    "print (Calcula_Integral())\n"
   ]
  },
  {
   "cell_type": "raw",
   "metadata": {},
   "source": []
  },
  {
   "cell_type": "code",
   "execution_count": null,
   "metadata": {
    "collapsed": true
   },
   "outputs": [],
   "source": []
  }
 ],
 "metadata": {
  "anaconda-cloud": {},
  "kernelspec": {
   "display_name": "Python [Root]",
   "language": "python",
   "name": "Python [Root]"
  },
  "language_info": {
   "codemirror_mode": {
    "name": "ipython",
    "version": 2
   },
   "file_extension": ".py",
   "mimetype": "text/x-python",
   "name": "python",
   "nbconvert_exporter": "python",
   "pygments_lexer": "ipython2",
   "version": "2.7.11"
  }
 },
 "nbformat": 4,
 "nbformat_minor": 2
}
